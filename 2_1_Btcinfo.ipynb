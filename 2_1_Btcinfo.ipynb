{
  "nbformat": 4,
  "nbformat_minor": 0,
  "metadata": {
    "colab": {
      "provenance": [],
      "include_colab_link": true
    },
    "kernelspec": {
      "name": "python3",
      "display_name": "Python 3"
    },
    "language_info": {
      "name": "python"
    }
  },
  "cells": [
    {
      "cell_type": "markdown",
      "metadata": {
        "id": "view-in-github",
        "colab_type": "text"
      },
      "source": [
        "<a href=\"https://colab.research.google.com/github/J034ll4n/API_FILMS-/blob/main/2_1_Btcinfo.ipynb\" target=\"_parent\"><img src=\"https://colab.research.google.com/assets/colab-badge.svg\" alt=\"Open In Colab\"/></a>"
      ]
    },
    {
      "cell_type": "markdown",
      "source": [
        "## Importando Informações do X sobre o BitCoin"
      ],
      "metadata": {
        "id": "EH-Ru7oDliip"
      }
    },
    {
      "cell_type": "markdown",
      "source": [
        "### Importação e configuração"
      ],
      "metadata": {
        "id": "LVvYB460luzT"
      }
    },
    {
      "cell_type": "code",
      "source": [
        "import tweepy\n",
        "import pandas as pd\n",
        "import requests\n",
        "from datetime import datetime, timedelta, timezone\n",
        "import matplotlib.pyplot as plt\n",
        "from wordcloud import WordCloud\n",
        "import nltk\n",
        "from nltk.sentiment.vader import SentimentIntensityAnalyzer\n",
        "import time\n",
        "from textblob import TextBlob\n",
        "\n",
        "\n",
        "# Baixa o lexicon para análise de sentimentos\n",
        "nltk.download('vader_lexicon')\n",
        "\n",
        "# Inicializa o analisador de sentimentos\n",
        "sia = SentimentIntensityAnalyzer()\n",
        "\n",
        "# Configuração da API do Twitter\n",
        "bearer_token = 'AAAAAAAAAAAAAAAAAAAAAPbA2AEAAAAA8%2BLw3Aj1fjpIyzalZ7CKzw2AxLk%3D3DElkKF0g9MX7lju7IVzib3gvnxt4N0PSTYGHm8Bbz7abu8faC'\n",
        "client = tweepy.Client(bearer_token=bearer_token, wait_on_rate_limit=True)\n"
      ],
      "metadata": {
        "colab": {
          "base_uri": "https://localhost:8080/"
        },
        "id": "8PR5EfIy5oNA",
        "outputId": "a9454a74-4f12-4ed6-8016-bf47b51f12a4"
      },
      "execution_count": 168,
      "outputs": [
        {
          "output_type": "stream",
          "name": "stderr",
          "text": [
            "[nltk_data] Downloading package vader_lexicon to /root/nltk_data...\n",
            "[nltk_data]   Package vader_lexicon is already up-to-date!\n"
          ]
        }
      ]
    },
    {
      "cell_type": "markdown",
      "source": [
        "### Função para Coletar Tweets do Twitter"
      ],
      "metadata": {
        "id": "myrkwbU4l1_V"
      }
    },
    {
      "cell_type": "code",
      "source": [
        "# Função atualizada para coletar apenas os 100 tweets mais recentes\n",
        "def coletar_tweets_bitcoin_api():\n",
        "    import tweepy\n",
        "    import pandas as pd\n",
        "\n",
        "    bearer_token = 'AAAAAAAAAAAAAAAAAAAAAPbA2AEAAAAA8%2BLw3Aj1fjpIyzalZ7CKzw2AxLk%3D3DElkKF0g9MX7lju7IVzib3gvnxt4N0PSTYGHm8Bbz7abu8faC'\n",
        "    client = tweepy.Client(bearer_token=bearer_token)\n",
        "\n",
        "    query = 'bitcoin lang:pt'\n",
        "\n",
        "    try:\n",
        "        # Coleta os 100 tweets mais recentes (sem filtro de tempo)\n",
        "        tweets = client.search_recent_tweets(\n",
        "            query=query,\n",
        "            max_results=100,\n",
        "            tweet_fields=[\"created_at\"]  # Garante que a data venha\n",
        "        )\n",
        "\n",
        "        data = []\n",
        "        if tweets.data:\n",
        "            for tweet in tweets.data:\n",
        "                data.append([tweet.id, tweet.created_at, tweet.text])\n",
        "        else:\n",
        "            print(\"Nenhum tweet encontrado.\")\n",
        "\n",
        "        df_tweets = pd.DataFrame(data, columns=['id', 'data', 'texto'])\n",
        "        return df_tweets\n",
        "\n",
        "    except tweepy.TooManyRequests:\n",
        "        print(\"Limite de requisições atingido. Tente novamente mais tarde.\")\n",
        "        return pd.DataFrame(columns=['id', 'data', 'texto'])\n"
      ],
      "metadata": {
        "id": "i32jiOuhXCwP"
      },
      "execution_count": 169,
      "outputs": []
    },
    {
      "cell_type": "markdown",
      "source": [
        "### Função para coletar Preços do Bitcoin da CoinGecko"
      ],
      "metadata": {
        "id": "nfyiWsCXByCi"
      }
    },
    {
      "cell_type": "code",
      "source": [
        "def coletar_btc_coingecko(dias=30):\n",
        "    print(f\"🔁 Coletando dados do BTC pela CoinGecko...\")\n",
        "    url = \"https://api.coingecko.com/api/v3/coins/bitcoin/market_chart\"\n",
        "    params = {\"vs_currency\": \"usd\", \"days\": dias}\n",
        "    response = requests.get(url, params=params)\n",
        "\n",
        "    if response.status_code != 200:\n",
        "        print(\"❌ Erro na requisição:\", response.text)\n",
        "        return None\n",
        "\n",
        "    data = response.json()\n",
        "    df = pd.DataFrame(data[\"prices\"], columns=[\"timestamp\", \"preco\"])\n",
        "    df[\"timestamp\"] = pd.to_datetime(df[\"timestamp\"], unit=\"ms\")\n",
        "    df[\"data\"] = df[\"timestamp\"].dt.date\n",
        "    df[\"hora\"] = df[\"timestamp\"].dt.time\n",
        "\n",
        "    # ✅ Salva e imprime ANTES do return\n",
        "    df.to_csv(\"btc_coingecko.csv\", index=False)\n",
        "    print(\"✅ Dados salvos em btc_coingecko.csv\")\n",
        "    print(df.head())\n",
        "\n",
        "    return df\n",
        "\n",
        "\n"
      ],
      "metadata": {
        "id": "PtnkCVhPB1gy"
      },
      "execution_count": 170,
      "outputs": []
    },
    {
      "cell_type": "markdown",
      "source": [
        "### Função para Análise de Sentimentos com VADER"
      ],
      "metadata": {
        "id": "UlJGnrMr92CJ"
      }
    },
    {
      "cell_type": "code",
      "source": [
        "def analisar_sentimentos(df_tweets):\n",
        "    # Função para análise de sentimentos\n",
        "    def obter_sentimento(texto):\n",
        "        analise = TextBlob(texto)\n",
        "        if analise.sentiment.polarity > 0:\n",
        "            return 'Positivo'\n",
        "        elif analise.sentiment.polarity < 0:\n",
        "            return 'Negativo'\n",
        "        else:\n",
        "            return 'Neutro'\n",
        "\n",
        "    df_tweets['sentimento'] = df_tweets['texto'].apply(obter_sentimento)\n",
        "    df_tweets['classificacao_sentimento'] = df_tweets['sentimento'].apply(lambda x: 1 if x == 'Positivo' else (0 if x == 'Neutro' else -1))\n",
        "    return df_tweets"
      ],
      "metadata": {
        "id": "jzPuN_RmXCzZ"
      },
      "execution_count": 171,
      "outputs": []
    },
    {
      "cell_type": "markdown",
      "source": [
        "# Função para coletar os preços do Bitcoin da CoinGecko"
      ],
      "metadata": {
        "id": "lh4r5mDMF6Le"
      }
    },
    {
      "source": [
        "def coletar_btc_coingecko():\n",
        "    url = 'https://api.coingecko.com/api/v3/coins/bitcoin/market_chart'\n",
        "    params = {'vs_currency': 'usd', 'days': '1'}\n",
        "    response = requests.get(url, params=params)\n",
        "    data = response.json()\n",
        "\n",
        "    # Organizando os dados de preço\n",
        "    df_btc = pd.DataFrame(data['prices'], columns=['timestamp', 'preco'])\n",
        "    df_btc['data'] = pd.to_datetime(df_btc['timestamp'], unit='ms')\n",
        "    df_btc = df_btc.drop(columns='timestamp')\n",
        "    return df_btc\n"
      ],
      "cell_type": "code",
      "metadata": {
        "id": "Gm3axnVD-6b0"
      },
      "execution_count": 172,
      "outputs": []
    },
    {
      "cell_type": "markdown",
      "source": [
        "# Função para gerar uma nuvem de palavras"
      ],
      "metadata": {
        "id": "0V8AWTXg9713"
      }
    },
    {
      "cell_type": "code",
      "source": [
        "def gerar_nuvem_de_palavras(df_tweets):\n",
        "    texto = ' '.join(df_tweets['texto'])\n",
        "    wordcloud = WordCloud(width=800, height=400, background_color='white').generate(texto)\n",
        "    plt.figure(figsize=(10, 5))\n",
        "    plt.imshow(wordcloud, interpolation='bilinear')\n",
        "    plt.axis('off')\n",
        "    plt.show()"
      ],
      "metadata": {
        "id": "oG8hh7vY9LfU"
      },
      "execution_count": 173,
      "outputs": []
    },
    {
      "cell_type": "code",
      "source": [
        "if __name__ == \"__main__\":\n",
        "    # Etapa 1: Coleta de tweets\n",
        "    df_tweets = coletar_tweets_bitcoin_api()\n",
        "\n",
        "    if not df_tweets.empty:\n",
        "        # Etapa 2: Análise de sentimentos\n",
        "        df_tweets = analisar_sentimentos(df_tweets)\n",
        "        df_tweets.to_csv('tweets_btc_com_sentimento.csv', index=False)\n",
        "\n",
        "        # Etapa 3: Coleta de preços do BTC\n",
        "        df_btc = coletar_btc_coingecko()\n",
        "        df_btc.to_csv('precos_btc.csv', index=False)  # <-- Aqui salva em CSV\n",
        "\n",
        "        # Etapa 4: Nuvem de palavras\n",
        "        gerar_nuvem_de_palavras(df_tweets)\n",
        "\n",
        "        # Preview dos resultados\n",
        "        print(df_tweets[['data', 'texto', 'sentimento', 'classificacao_sentimento']].head())\n",
        "        print(df_btc.head())\n",
        "    else:\n",
        "        print(\"Nenhum tweet coletado. Encerrando análise.\")\n"
      ],
      "metadata": {
        "colab": {
          "base_uri": "https://localhost:8080/"
        },
        "id": "y_IhZ7SI9TVr",
        "outputId": "76983033-ec34-4c94-aadd-10fcbe931051"
      },
      "execution_count": 174,
      "outputs": [
        {
          "output_type": "stream",
          "name": "stdout",
          "text": [
            "Limite de requisições atingido. Tente novamente mais tarde.\n",
            "Nenhum tweet coletado. Encerrando análise.\n"
          ]
        }
      ]
    },
    {
      "cell_type": "code",
      "source": [
        "\n",
        "# Carrega os três arquivos\n",
        "df_preco = pd.read_csv('/content/btc_coingecko.csv')\n",
        "df_tweets = pd.read_csv('/content/tweets_btc_api.csv')\n",
        "df_sentimentos = pd.read_csv('/content/tweets_btc_com_sentimento.csv')\n",
        "\n",
        "# Merge entre tweets e sentimentos pela coluna 'id' (se existir em ambos)\n",
        "if 'id' in df_tweets.columns and 'id' in df_sentimentos.columns:\n",
        "    df_tweets_com_sentimento = pd.merge(df_tweets, df_sentimentos, on='id', how='outer')\n",
        "else:\n",
        "    df_tweets_com_sentimento = df_sentimentos.copy()\n",
        "\n",
        "# Converter para datetime e remover timezone\n",
        "df_preco['data'] = pd.to_datetime(df_preco['data'])\n",
        "df_tweets_com_sentimento['data'] = pd.to_datetime(df_tweets_com_sentimento['data'], errors='coerce')\n",
        "\n",
        "# Remove o timezone (se existir)\n",
        "df_tweets_com_sentimento['data'] = df_tweets_com_sentimento['data'].dt.tz_localize(None)\n",
        "\n",
        "# Merge aproximado com base na data\n",
        "df_final = pd.merge_asof(\n",
        "    df_tweets_com_sentimento.sort_values('data'),\n",
        "    df_preco.sort_values('data'),\n",
        "    on='data',\n",
        "    direction='backward'\n",
        ")\n",
        "\n",
        "# Salva o resultado\n",
        "df_final.to_csv('/content/dados_completos.csv', index=False)\n",
        "print(\"✅ Arquivo final salvo em /content/dados_completos.csv\")\n"
      ],
      "metadata": {
        "colab": {
          "base_uri": "https://localhost:8080/"
        },
        "id": "mce8lybZ0rJu",
        "outputId": "b1336600-f1b3-41a3-cba4-a88676f69ded"
      },
      "execution_count": 175,
      "outputs": [
        {
          "output_type": "stream",
          "name": "stdout",
          "text": [
            "✅ Arquivo final salvo em /content/dados_completos.csv\n"
          ]
        }
      ]
    },
    {
      "cell_type": "markdown",
      "source": [
        "### Random Forest"
      ],
      "metadata": {
        "id": "8WmH0Vau7fzJ"
      }
    },
    {
      "cell_type": "code",
      "source": [
        "import pandas as pd\n",
        "import numpy as np\n",
        "\n",
        "# Carregando os arquivos CSV\n",
        "df_tweets = pd.read_csv('tweets_btc_com_sentimento.csv')\n",
        "df_btc = pd.read_csv('btc_coingecko.csv')\n",
        "\n",
        "# Convertendo a data para o mesmo formato (removendo o fuso horário, se necessário)\n",
        "df_tweets['data'] = pd.to_datetime(df_tweets['data']).dt.tz_localize(None)  # Remover fuso horário, se houver\n",
        "df_btc['data'] = pd.to_datetime(df_btc['data']).dt.tz_localize(None)  # Remover fuso horário, se houver\n",
        "\n",
        "# Mesclando os dois DataFrames com base na data\n",
        "df_final = pd.merge_asof(df_btc.sort_values('data'), df_tweets.sort_values('data'), on='data')\n",
        "\n",
        "# Adicionando a variável alvo - Se o preço de hoje é maior que o de ontem, consideramos uma \"alta\"\n",
        "df_final['target'] = (df_final['preco'].shift(-1) > df_final['preco']).astype(int)\n",
        "\n",
        "# Feature Engineering - Criando variáveis de sentimento\n",
        "le = LabelEncoder()\n",
        "df_final['sentimento'] = le.fit_transform(df_final['sentimento'])\n",
        "\n",
        "# Selecionando as features e a target\n",
        "X = df_final[['sentimento', 'preco']]  # Você pode adicionar mais features aqui\n",
        "y = df_final['target']\n",
        "\n",
        "# Separando em treino e teste\n",
        "from sklearn.model_selection import train_test_split\n",
        "X_train, X_test, y_train, y_test = train_test_split(X, y, test_size=0.2, random_state=42)\n",
        "\n",
        "# Criando o modelo RandomForest\n",
        "from sklearn.ensemble import RandomForestClassifier\n",
        "clf = RandomForestClassifier(n_estimators=100, random_state=42)\n",
        "clf.fit(X_train, y_train)\n",
        "\n",
        "# Avaliando o modelo\n",
        "from sklearn.metrics import classification_report\n",
        "y_pred = clf.predict(X_test)\n",
        "print(classification_report(y_test, y_pred))\n",
        "\n",
        "# Salvando o modelo\n",
        "import joblib\n",
        "joblib.dump(clf, 'modelo_btc_random_forest.pkl')\n"
      ],
      "metadata": {
        "colab": {
          "base_uri": "https://localhost:8080/"
        },
        "id": "oBeoXEDg7iTG",
        "outputId": "d46436cf-641d-4ef5-913f-85a2725147e4"
      },
      "execution_count": 176,
      "outputs": [
        {
          "output_type": "stream",
          "name": "stdout",
          "text": [
            "              precision    recall  f1-score   support\n",
            "\n",
            "           0       0.46      0.53      0.50        73\n",
            "           1       0.43      0.37      0.40        71\n",
            "\n",
            "    accuracy                           0.45       144\n",
            "   macro avg       0.45      0.45      0.45       144\n",
            "weighted avg       0.45      0.45      0.45       144\n",
            "\n"
          ]
        },
        {
          "output_type": "execute_result",
          "data": {
            "text/plain": [
              "['modelo_btc_random_forest.pkl']"
            ]
          },
          "metadata": {},
          "execution_count": 176
        }
      ]
    },
    {
      "cell_type": "markdown",
      "source": [
        "### Matriz de Confusão"
      ],
      "metadata": {
        "id": "MaR-a7uV7ziS"
      }
    },
    {
      "cell_type": "code",
      "source": [
        "from sklearn.metrics import confusion_matrix\n",
        "import seaborn as sns\n",
        "import matplotlib.pyplot as plt\n",
        "\n",
        "cm = confusion_matrix(y_test, y_pred)\n",
        "sns.heatmap(cm, annot=True, fmt=\"d\", cmap=\"Blues\", xticklabels=[\"Baixa\", \"Alta\"], yticklabels=[\"Baixa\", \"Alta\"])\n",
        "plt.xlabel('Predição')\n",
        "plt.ylabel('Real')\n",
        "plt.title('Matriz de Confusão')\n",
        "plt.show()\n"
      ],
      "metadata": {
        "colab": {
          "base_uri": "https://localhost:8080/",
          "height": 472
        },
        "id": "qPBT0Ydu7j--",
        "outputId": "2ee8b8ab-07a8-47f3-f84c-73c81a9f3bad"
      },
      "execution_count": 177,
      "outputs": [
        {
          "output_type": "display_data",
          "data": {
            "text/plain": [
              "<Figure size 640x480 with 2 Axes>"
            ],
            "image/png": "[encoded data removed]"
          },
          "metadata": {}
        }
      ]
    },
    {
      "cell_type": "code",
      "source": [],
      "metadata": {
        "id": "qfKDCH9f71xW"
      },
      "execution_count": 190,
      "outputs": []
    },
    {
      "cell_type": "code",
      "source": [],
      "metadata": {
        "id": "IF4X9lkoZm9K"
      },
      "execution_count": 190,
      "outputs": []
    },
    {
      "cell_type": "code",
      "source": [],
      "metadata": {
        "id": "TbSffdMrbJlA"
      },
      "execution_count": null,
      "outputs": []
    }
  ]
}